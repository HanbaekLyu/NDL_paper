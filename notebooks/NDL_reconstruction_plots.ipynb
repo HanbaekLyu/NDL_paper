{
 "cells": [
  {
   "cell_type": "markdown",
   "metadata": {},
   "source": [
    "# Network-reconstruction plots"
   ]
  },
  {
   "cell_type": "markdown",
   "metadata": {},
   "source": [
    "## Plots from saved file"
   ]
  },
  {
   "cell_type": "code",
   "execution_count": null,
   "metadata": {},
   "outputs": [],
   "source": [
    "from helper_functions.final_plots_display import recons_display\n",
    "recons_display()"
   ]
  },
  {
   "cell_type": "code",
   "execution_count": null,
   "metadata": {},
   "outputs": [],
   "source": [
    "from helper_functions.final_plots_display import recons_error_bd_display\n",
    "recons_error_bd_display()"
   ]
  },
  {
   "cell_type": "markdown",
   "metadata": {},
   "source": [
    "## Generate reconstruction data from scratch"
   ]
  },
  {
   "cell_type": "code",
   "execution_count": 1,
   "metadata": {},
   "outputs": [],
   "source": [
    "from run_recons_exp import compute_all_self_recons, compute_all_cross_recons, compute_all_self_recons_threshold\n"
   ]
  },
  {
   "cell_type": "code",
   "execution_count": null,
   "metadata": {},
   "outputs": [],
   "source": [
    "compute_all_self_recons()"
   ]
  },
  {
   "cell_type": "code",
   "execution_count": null,
   "metadata": {},
   "outputs": [],
   "source": [
    "compute_all_cross_recons(compute_error_bd=False)"
   ]
  },
  {
   "cell_type": "code",
   "execution_count": null,
   "metadata": {},
   "outputs": [],
   "source": [
    "compute_all_cross_recons(compute_error_bd=True)"
   ]
  },
  {
   "cell_type": "code",
   "execution_count": null,
   "metadata": {},
   "outputs": [
    {
     "name": "stderr",
     "output_type": "stream",
     "text": [
      "100%|███████████████████████████████| 451871/451871 [00:00<00:00, 877522.02it/s]\n"
     ]
    },
    {
     "name": "stdout",
     "output_type": "stream",
     "text": [
      "!!! recons_accuracy 0.07369639351953279\n",
      "!!! recons_accuracy 0.0737091165839979\n",
      "!!! recons_accuracy 0.07381449514360823\n",
      "!!! recons_accuracy 0.07415489648998969\n",
      "!!! recons_accuracy 0.07489098730977595\n",
      "!!! recons_accuracy 0.07636567099150168\n",
      "!!! recons_accuracy 0.0790137399726197\n",
      "!!! recons_accuracy 0.08304738154613467\n",
      "!!! recons_accuracy 0.08891107824238961\n",
      "!!! recons_accuracy 0.09674823437813214\n",
      "!!! recons_accuracy 0.10730742213429055\n",
      "!!! recons_accuracy 0.12087313801213741\n",
      "!!! recons_accuracy 0.13830423443028722\n",
      "!!! recons_accuracy 0.16059605044245653\n",
      "!!! recons_accuracy 0.18856770759604768\n",
      "!!! recons_accuracy 0.22373159195958292\n",
      "!!! recons_accuracy 0.2665140771804024\n",
      "!!! recons_accuracy 0.318283475102743\n",
      "!!! recons_accuracy 0.3767961802176914\n",
      "!!! recons_accuracy 0.4411036200113912\n",
      "!!! recons_accuracy 0.5081404397515907\n",
      "!!! recons_accuracy 0.5771377075318013\n",
      "!!! recons_accuracy 0.6428212948307146\n",
      "!!! recons_accuracy 0.704938506805529\n",
      "!!! recons_accuracy 0.7600940360167073\n",
      "!!! recons_accuracy 0.8058170203498923\n",
      "!!! recons_accuracy 0.8450918688458025\n",
      "!!! recons_accuracy 0.8783962015299394\n",
      "!!! recons_accuracy 0.9059591836734694\n",
      "!!! recons_accuracy 0.926876809979951\n",
      "!!! recons_accuracy 0.9431470354835053\n",
      "!!! recons_accuracy 0.9561267322178139\n",
      "!!! recons_accuracy 0.9633927017462436\n",
      "!!! recons_accuracy 0.9681927147284102\n",
      "!!! recons_accuracy 0.9703651437643324\n",
      "!!! recons_accuracy 0.9697578263437685\n",
      "!!! recons_accuracy 0.9669411695005629\n",
      "!!! recons_accuracy 0.9607155592535362\n",
      "!!! recons_accuracy 0.9499910698338989\n",
      "!!! recons_accuracy 0.9388229682189494\n",
      "!!! recons_accuracy 0.9224570200573066\n",
      "!!! recons_accuracy 0.904050663161668\n",
      "!!! recons_accuracy 0.8801052442743527\n",
      "!!! recons_accuracy 0.8552277215871686\n",
      "!!! recons_accuracy 0.826576441703096\n",
      "!!! recons_accuracy 0.795076075236612\n",
      "!!! recons_accuracy 0.7602493406856868\n",
      "!!! recons_accuracy 0.7242309767943875\n",
      "!!! recons_accuracy 0.6872225554889022\n",
      "!!! recons_accuracy 0.6536084948107265\n",
      "!!! recons_accuracy 0.6145308375329973\n",
      "!!! recons_accuracy 0.5748140148788097\n",
      "!!! recons_accuracy 0.5366614664586583\n",
      "!!! recons_accuracy 0.5010501050105011\n",
      "!!! recons_accuracy 0.4667826921922823\n",
      "!!! recons_accuracy 0.4298061340855891\n",
      "!!! recons_accuracy 0.3985833483402365\n",
      "!!! recons_accuracy 0.3680893210877003\n",
      "!!! recons_accuracy 0.3383156251875863\n",
      "!!! recons_accuracy 0.3107029233447386\n",
      "!!! recons_accuracy 0.28639174020049224\n",
      "!!! recons_accuracy 0.2612872238232469\n",
      "!!! recons_accuracy 0.23985350624399615\n",
      "!!! recons_accuracy 0.21878001921229587\n",
      "!!! recons_accuracy 0.19908741594620558\n",
      "!!! recons_accuracy 0.18029538904899137\n",
      "!!! recons_accuracy 0.1619236311239193\n",
      "!!! recons_accuracy 0.1446926032660903\n",
      "!!! recons_accuracy 0.12938280499519692\n",
      "!!! recons_accuracy 0.11605427473583094\n",
      "!!! recons_accuracy 0.10278578290105668\n",
      "!!! recons_accuracy 0.09143852065321806\n",
      "!!! recons_accuracy 0.08195244956772334\n",
      "!!! recons_accuracy 0.07156580211335255\n",
      "!!! recons_accuracy 0.06472142170989434\n",
      "!!! recons_accuracy 0.05817723342939481\n",
      "!!! recons_accuracy 0.05157300672430355\n",
      "!!! recons_accuracy 0.04526897214217099\n",
      "!!! recons_accuracy 0.039805475504322764\n",
      "!!! recons_accuracy 0.03506243996157541\n",
      "!!! recons_accuracy 0.030439481268011527\n",
      "!!! recons_accuracy 0.02653698366954851\n",
      "!!! recons_accuracy 0.0223342939481268\n",
      "!!! recons_accuracy 0.018912103746397693\n",
      "!!! recons_accuracy 0.014589337175792506\n",
      "!!! recons_accuracy 0.011827569644572527\n",
      "!!! recons_accuracy 0.008585494716618637\n",
      "!!! recons_accuracy 0.005523535062439962\n",
      "!!! recons_accuracy 0.0032420749279538905\n",
      "!!! recons_accuracy 0.0015609990393852064\n",
      "!!! recons_accuracy 0.0007204610951008645\n",
      "!!! recons_accuracy 0.0006003842459173872\n",
      "!!! recons_accuracy 0.00036023054755043225\n",
      "!!! recons_accuracy 0.00018011527377521613\n",
      "!!! recons_accuracy 6.003842459173871e-05\n",
      "!!! recons_accuracy 0.0\n",
      "!!! recons_accuracy 0.0\n",
      "!!! recons_accuracy 0.0\n",
      "!!! recons_accuracy 0.0\n",
      "!!! recons_accuracy 0.0\n",
      "!!! recons_accuracy 0.0\n",
      "!!! 1\n",
      "!!! 2\n"
     ]
    }
   ],
   "source": [
    "compute_all_self_recons_threshold()"
   ]
  },
  {
   "cell_type": "code",
   "execution_count": null,
   "metadata": {},
   "outputs": [],
   "source": []
  }
 ],
 "metadata": {
  "kernelspec": {
   "display_name": "hlyuenv",
   "language": "python",
   "name": "hlyuenv"
  },
  "language_info": {
   "codemirror_mode": {
    "name": "ipython",
    "version": 3
   },
   "file_extension": ".py",
   "mimetype": "text/x-python",
   "name": "python",
   "nbconvert_exporter": "python",
   "pygments_lexer": "ipython3",
   "version": "3.9.13"
  }
 },
 "nbformat": 4,
 "nbformat_minor": 2
}
