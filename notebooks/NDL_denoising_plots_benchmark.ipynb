{
 "cells": [
  {
   "cell_type": "markdown",
   "metadata": {},
   "source": [
    "# Denoising using NDL+NDR and benchmark methods "
   ]
  },
  {
   "cell_type": "markdown",
   "metadata": {},
   "source": [
    "## Plot from saved file"
   ]
  },
  {
   "cell_type": "code",
   "execution_count": 2,
   "metadata": {},
   "outputs": [],
   "source": [
    "# These files are too large to be shared via GitHub. \n",
    "# They are available upon a reasonable request to the corresponding author \n",
    "# Hanbaek Lyu (hlyu@math.wisc.edu)"
   ]
  },
  {
   "cell_type": "code",
   "execution_count": 3,
   "metadata": {},
   "outputs": [],
   "source": [
    "from helper_functions.final_plots_display import display_denoising_bar"
   ]
  },
  {
   "cell_type": "code",
   "execution_count": 4,
   "metadata": {},
   "outputs": [
    {
     "name": "stderr",
     "output_type": "stream",
     "text": [
      " 33%|██████████████▋                             | 1/3 [02:06<04:13, 126.67s/it]"
     ]
    },
    {
     "name": "stdout",
     "output_type": "stream",
     "text": [
      "labels ['$\\\\textsc{Jaccard index}$', '$\\\\textsc{preferential attachment}$', '$\\\\textsc{Adamic--Adar index}$', '$\\\\textsc{spectral embedding}$', '$\\\\textsc{DeepWalk}$', '$\\\\textsc{node2vec}$', '$\\\\textsc{NDL+NDR}$']\n"
     ]
    },
    {
     "name": "stderr",
     "output_type": "stream",
     "text": [
      "\r",
      " 67%|█████████████████████████████▎              | 2/3 [04:11<02:05, 125.67s/it]"
     ]
    },
    {
     "name": "stdout",
     "output_type": "stream",
     "text": [
      "labels ['$\\\\textsc{Jaccard index}$', '$\\\\textsc{preferential attachment}$', '$\\\\textsc{Adamic--Adar index}$', '$\\\\textsc{spectral embedding}$', '$\\\\textsc{DeepWalk}$', '$\\\\textsc{node2vec}$', '$\\\\textsc{NDL+NDR}$']\n"
     ]
    },
    {
     "name": "stderr",
     "output_type": "stream",
     "text": [
      "100%|█████████████████████████████████████████████| 3/3 [04:39<00:00, 93.19s/it]"
     ]
    },
    {
     "name": "stdout",
     "output_type": "stream",
     "text": [
      "labels ['$\\\\textsc{Jaccard index}$', '$\\\\textsc{preferential attachment}$', '$\\\\textsc{Adamic--Adar index}$', '$\\\\textsc{spectral embedding}$', '$\\\\textsc{DeepWalk}$', '$\\\\textsc{node2vec}$', '$\\\\textsc{NDL+NDR}$']\n"
     ]
    },
    {
     "name": "stderr",
     "output_type": "stream",
     "text": [
      "\n"
     ]
    },
    {
     "data": {
      "image/png": "[encoded data removed]",
      "text/plain": [
       "<Figure size 1080x324 with 6 Axes>"
      ]
     },
     "metadata": {
      "needs_background": "light"
     },
     "output_type": "display_data"
    }
   ],
   "source": [
    "save_path = \"Network_dictionary/barplot/barplot_AUC.pdf\"\n",
    "\n",
    "display_denoising_bar(save_path=save_path, metric=\"AUC\")"
   ]
  },
  {
   "cell_type": "code",
   "execution_count": 5,
   "metadata": {},
   "outputs": [
    {
     "name": "stderr",
     "output_type": "stream",
     "text": [
      " 33%|██████████████▋                             | 1/3 [02:09<04:18, 129.25s/it]"
     ]
    },
    {
     "name": "stdout",
     "output_type": "stream",
     "text": [
      "labels ['$\\\\textsc{Jaccard index}$', '$\\\\textsc{preferential attachment}$', '$\\\\textsc{Adamic--Adar index}$', '$\\\\textsc{spectral embedding}$', '$\\\\textsc{DeepWalk}$', '$\\\\textsc{node2vec}$', '$\\\\textsc{NDL+NDR}$']\n"
     ]
    },
    {
     "name": "stderr",
     "output_type": "stream",
     "text": [
      "\r",
      " 67%|█████████████████████████████▎              | 2/3 [04:10<02:04, 124.71s/it]"
     ]
    },
    {
     "name": "stdout",
     "output_type": "stream",
     "text": [
      "labels ['$\\\\textsc{Jaccard index}$', '$\\\\textsc{preferential attachment}$', '$\\\\textsc{Adamic--Adar index}$', '$\\\\textsc{spectral embedding}$', '$\\\\textsc{DeepWalk}$', '$\\\\textsc{node2vec}$', '$\\\\textsc{NDL+NDR}$']\n"
     ]
    },
    {
     "name": "stderr",
     "output_type": "stream",
     "text": [
      "100%|█████████████████████████████████████████████| 3/3 [04:38<00:00, 92.78s/it]"
     ]
    },
    {
     "name": "stdout",
     "output_type": "stream",
     "text": [
      "labels ['$\\\\textsc{Jaccard index}$', '$\\\\textsc{preferential attachment}$', '$\\\\textsc{Adamic--Adar index}$', '$\\\\textsc{spectral embedding}$', '$\\\\textsc{DeepWalk}$', '$\\\\textsc{node2vec}$', '$\\\\textsc{NDL+NDR}$']\n"
     ]
    },
    {
     "name": "stderr",
     "output_type": "stream",
     "text": [
      "\n"
     ]
    },
    {
     "data": {
      "image/png": "[encoded data removed]",
      "text/plain": [
       "<Figure size 1080x324 with 6 Axes>"
      ]
     },
     "metadata": {
      "needs_background": "light"
     },
     "output_type": "display_data"
    }
   ],
   "source": [
    "save_path = \"Network_dictionary/barplot/barplot_ACC.pdf\"\n",
    "\n",
    "display_denoising_bar(save_path=save_path, metric=\"Accuracy\")"
   ]
  },
  {
   "cell_type": "code",
   "execution_count": 6,
   "metadata": {},
   "outputs": [
    {
     "name": "stderr",
     "output_type": "stream",
     "text": [
      " 33%|██████████████▋                             | 1/3 [02:07<04:14, 127.16s/it]"
     ]
    },
    {
     "name": "stdout",
     "output_type": "stream",
     "text": [
      "labels ['$\\\\textsc{Jaccard index}$', '$\\\\textsc{preferential attachment}$', '$\\\\textsc{Adamic--Adar index}$', '$\\\\textsc{spectral embedding}$', '$\\\\textsc{DeepWalk}$', '$\\\\textsc{node2vec}$', '$\\\\textsc{NDL+NDR}$']\n"
     ]
    },
    {
     "name": "stderr",
     "output_type": "stream",
     "text": [
      "\r",
      " 67%|█████████████████████████████▎              | 2/3 [04:08<02:04, 124.01s/it]"
     ]
    },
    {
     "name": "stdout",
     "output_type": "stream",
     "text": [
      "labels ['$\\\\textsc{Jaccard index}$', '$\\\\textsc{preferential attachment}$', '$\\\\textsc{Adamic--Adar index}$', '$\\\\textsc{spectral embedding}$', '$\\\\textsc{DeepWalk}$', '$\\\\textsc{node2vec}$', '$\\\\textsc{NDL+NDR}$']\n"
     ]
    },
    {
     "name": "stderr",
     "output_type": "stream",
     "text": [
      "100%|█████████████████████████████████████████████| 3/3 [04:35<00:00, 91.94s/it]"
     ]
    },
    {
     "name": "stdout",
     "output_type": "stream",
     "text": [
      "labels ['$\\\\textsc{Jaccard index}$', '$\\\\textsc{preferential attachment}$', '$\\\\textsc{Adamic--Adar index}$', '$\\\\textsc{spectral embedding}$', '$\\\\textsc{DeepWalk}$', '$\\\\textsc{node2vec}$', '$\\\\textsc{NDL+NDR}$']\n"
     ]
    },
    {
     "name": "stderr",
     "output_type": "stream",
     "text": [
      "\n"
     ]
    },
    {
     "data": {
      "image/png": "[encoded data removed]",
      "text/plain": [
       "<Figure size 1080x324 with 6 Axes>"
      ]
     },
     "metadata": {
      "needs_background": "light"
     },
     "output_type": "display_data"
    }
   ],
   "source": [
    "save_path = \"Network_dictionary/barplot/barplot_PRC.pdf\"\n",
    "\n",
    "display_denoising_bar(save_path=save_path, metric=\"Precision\")"
   ]
  },
  {
   "cell_type": "code",
   "execution_count": 7,
   "metadata": {},
   "outputs": [
    {
     "name": "stderr",
     "output_type": "stream",
     "text": [
      " 33%|██████████████▋                             | 1/3 [02:08<04:16, 128.30s/it]"
     ]
    },
    {
     "name": "stdout",
     "output_type": "stream",
     "text": [
      "labels ['$\\\\textsc{Jaccard index}$', '$\\\\textsc{preferential attachment}$', '$\\\\textsc{Adamic--Adar index}$', '$\\\\textsc{spectral embedding}$', '$\\\\textsc{DeepWalk}$', '$\\\\textsc{node2vec}$', '$\\\\textsc{NDL+NDR}$']\n"
     ]
    },
    {
     "name": "stderr",
     "output_type": "stream",
     "text": [
      "\r",
      " 67%|█████████████████████████████▎              | 2/3 [04:09<02:04, 124.16s/it]"
     ]
    },
    {
     "name": "stdout",
     "output_type": "stream",
     "text": [
      "labels ['$\\\\textsc{Jaccard index}$', '$\\\\textsc{preferential attachment}$', '$\\\\textsc{Adamic--Adar index}$', '$\\\\textsc{spectral embedding}$', '$\\\\textsc{DeepWalk}$', '$\\\\textsc{node2vec}$', '$\\\\textsc{NDL+NDR}$']\n"
     ]
    },
    {
     "name": "stderr",
     "output_type": "stream",
     "text": [
      "100%|█████████████████████████████████████████████| 3/3 [04:37<00:00, 92.38s/it]"
     ]
    },
    {
     "name": "stdout",
     "output_type": "stream",
     "text": [
      "labels ['$\\\\textsc{Jaccard index}$', '$\\\\textsc{preferential attachment}$', '$\\\\textsc{Adamic--Adar index}$', '$\\\\textsc{spectral embedding}$', '$\\\\textsc{DeepWalk}$', '$\\\\textsc{node2vec}$', '$\\\\textsc{NDL+NDR}$']\n"
     ]
    },
    {
     "name": "stderr",
     "output_type": "stream",
     "text": [
      "\n"
     ]
    },
    {
     "data": {
      "image/png": "[encoded data removed]",
      "text/plain": [
       "<Figure size 1080x324 with 6 Axes>"
      ]
     },
     "metadata": {
      "needs_background": "light"
     },
     "output_type": "display_data"
    }
   ],
   "source": [
    "save_path = \"Network_dictionary/barplot/barplot_REC.pdf\"\n",
    "\n",
    "display_denoising_bar(save_path=save_path, metric=\"Recall\")"
   ]
  },
  {
   "cell_type": "markdown",
   "metadata": {},
   "source": [
    "## Get nework denoising data from scratch"
   ]
  },
  {
   "cell_type": "code",
   "execution_count": 1,
   "metadata": {},
   "outputs": [
    {
     "name": "stdout",
     "output_type": "stream",
     "text": [
      "!! Generate & denoise experiment started..\n",
      "!!! # edges in WS 1000\n",
      "edges added = 998\n",
      "num undirected edges right after corruption: 3461\n",
      "Network_dictionary/test1/COVID_PPI_noisetype_WS.txt\n",
      "!!! # edges in WS 1000\n",
      "edges added = 947\n",
      "num undirected edges right after corruption: 17598\n",
      "Network_dictionary/test1/Caltech36_noisetype_WS.txt\n",
      "!!! # edges in WS 1000\n",
      "edges added = 988\n",
      "num undirected edges right after corruption: 89222\n",
      "Network_dictionary/test1/facebook_combined_noisetype_WS.txt\n",
      "!!! # edges in WS 1000\n",
      "edges added = 999\n",
      "num undirected edges right after corruption: 198030\n",
      "Network_dictionary/test1/arxiv_noisetype_WS.txt\n",
      "!!! # edges in WS 30000\n",
      "edges added = 29969\n",
      "num undirected edges right after corruption: 420366\n",
      "Network_dictionary/test1/node2vec_homosapiens_PPI_noisetype_WS.txt\n",
      "!!! network=COVID_PPI.txt\n",
      "len(train_edges_false) 1023\n",
      "len(test_edges_false) 973\n",
      "len(train_edges_true) 2414\n",
      "len(test_edges_true) 2465\n",
      "!!! num test edges: 3438\n",
      "\n",
      "Running link prediction with... jaccard\n",
      "!!!! ROC computation begins..\n",
      "num edges in G_recons 5112\n",
      "num edges in G_original 4879\n",
      "num edges in G_corrupted 6875\n"
     ]
    },
    {
     "name": "stderr",
     "output_type": "stream",
     "text": [
      "100%|███████████████████████████████████| 5112/5112 [00:00<00:00, 534895.40it/s]\n"
     ]
    },
    {
     "name": "stdout",
     "output_type": "stream",
     "text": [
      "AUC with convex hull:  0.5032894736842105\n",
      "AUC without convex hull:  0.032112812769628976\n",
      "PR Accuracy without convex hull:  0.4598881919642631\n",
      "Training AUC:  0.03198117119741227\n",
      "Training threshold:  0.8752976190476192\n",
      "Test confusion_mx: \n",
      " [[1.         0.        ]\n",
      " [0.99455176 0.00544824]]\n",
      "Test accuracy:  0.2929577464788732\n",
      "Test precision:  1.0\n",
      "Test recall:  0.005449484778202542\n",
      "Test F-score:  0.010837440451928153\n",
      "\n",
      "Running link prediction with... preferential_attachment\n",
      "!!!! ROC computation begins..\n",
      "num edges in G_recons 5112\n",
      "num edges in G_original 4879\n",
      "num edges in G_corrupted 6875\n"
     ]
    },
    {
     "name": "stderr",
     "output_type": "stream",
     "text": [
      "100%|██████████████████████████████████| 5112/5112 [00:00<00:00, 1000759.96it/s]"
     ]
    },
    {
     "name": "stdout",
     "output_type": "stream",
     "text": [
      "AUC with convex hull:  0.6579997798029912\n",
      "AUC without convex hull:  0.39589194019029816\n",
      "PR Accuracy without convex hull:  0.7568219056275755\n",
      "Training AUC:  0.39765367547793956\n",
      "Training threshold:  678.0\n",
      "Test confusion_mx: \n",
      " [[0.98515593 0.01484407]\n",
      " [0.670802   0.329198  ]]\n",
      "Test accuracy:  0.5176447574334897\n",
      "Test precision:  0.9821721397817063\n",
      "Test recall:  0.32917294893172777\n",
      "Test F-score:  0.49302632460788665\n",
      "\n",
      "Running link prediction with... spectral\n"
     ]
    },
    {
     "name": "stderr",
     "output_type": "stream",
     "text": [
      "\n",
      "<class 'networkx.utils.decorators.argmap'> compilation 35:4: FutureWarning: laplacian_matrix will return a scipy.sparse array instead of a matrix in Networkx 3.0.\n"
     ]
    },
    {
     "ename": "KeyboardInterrupt",
     "evalue": "",
     "output_type": "error",
     "traceback": [
      "\u001b[0;31m---------------------------------------------------------------------------\u001b[0m",
      "\u001b[0;31mKeyboardInterrupt\u001b[0m                         Traceback (most recent call last)",
      "Input \u001b[0;32mIn [1]\u001b[0m, in \u001b[0;36m<cell line: 3>\u001b[0;34m()\u001b[0m\n\u001b[1;32m      1\u001b[0m \u001b[38;5;28;01mfrom\u001b[39;00m \u001b[38;5;21;01mhelper_functions\u001b[39;00m\u001b[38;5;21;01m.\u001b[39;00m\u001b[38;5;21;01mlink_prediction\u001b[39;00m \u001b[38;5;28;01mimport\u001b[39;00m Generate_corrupt_and_denoising_results\n\u001b[0;32m----> 3\u001b[0m \u001b[43mGenerate_corrupt_and_denoising_results\u001b[49m\u001b[43m(\u001b[49m\u001b[43m)\u001b[49m\n",
      "File \u001b[0;32m~/Dropbox/PythonProjects/NDL_paper_rev/helper_functions/link_prediction.py:404\u001b[0m, in \u001b[0;36mGenerate_corrupt_and_denoising_results\u001b[0;34m(method_names, save_folder)\u001b[0m\n\u001b[1;32m    385\u001b[0m \u001b[38;5;66;03m#list_network_files = ['COVID_PPI.txt']\u001b[39;00m\n\u001b[1;32m    386\u001b[0m \u001b[38;5;66;03m#list_network_files = ['facebook_combined.txt']\u001b[39;00m\n\u001b[1;32m    387\u001b[0m \u001b[38;5;66;03m#list_network_files = ['Caltech36.txt']\u001b[39;00m\n\u001b[0;32m   (...)\u001b[0m\n\u001b[1;32m    394\u001b[0m \u001b[38;5;66;03m#list_network_files = ['node2vec_homosapiens_PPI.txt']\u001b[39;00m\n\u001b[1;32m    395\u001b[0m \u001b[38;5;66;03m#list_network_files = ['COVID_PPI.txt']\u001b[39;00m\n\u001b[1;32m    397\u001b[0m generate_corrupt_networks(\n\u001b[1;32m    398\u001b[0m     directory_network_files\u001b[38;5;241m=\u001b[39mdirectory_network_files,\n\u001b[1;32m    399\u001b[0m     save_folder\u001b[38;5;241m=\u001b[39msave_folder,\n\u001b[1;32m    400\u001b[0m     list_network_files\u001b[38;5;241m=\u001b[39mlist_network_files,\n\u001b[1;32m    401\u001b[0m     ND_list_noise_type\u001b[38;5;241m=\u001b[39mND_list_noise_type)\n\u001b[0;32m--> 404\u001b[0m \u001b[43mrun_link_prediction_all\u001b[49m\u001b[43m(\u001b[49m\n\u001b[1;32m    405\u001b[0m \u001b[43m    \u001b[49m\u001b[43mdirectory_network_files\u001b[49m\u001b[38;5;241;43m=\u001b[39;49m\u001b[43mdirectory_network_files\u001b[49m\u001b[43m,\u001b[49m\n\u001b[1;32m    406\u001b[0m \u001b[43m    \u001b[49m\u001b[43msave_folder\u001b[49m\u001b[38;5;241;43m=\u001b[39;49m\u001b[43msave_folder\u001b[49m\u001b[43m,\u001b[49m\n\u001b[1;32m    407\u001b[0m \u001b[43m    \u001b[49m\u001b[43mlist_network_files\u001b[49m\u001b[38;5;241;43m=\u001b[39;49m\u001b[43mlist_network_files\u001b[49m\u001b[43m,\u001b[49m\n\u001b[1;32m    408\u001b[0m \u001b[43m    \u001b[49m\u001b[43mND_list_noise_type\u001b[49m\u001b[38;5;241;43m=\u001b[39;49m\u001b[43mND_list_noise_type\u001b[49m\u001b[43m,\u001b[49m\n\u001b[1;32m    409\u001b[0m \u001b[43m    \u001b[49m\u001b[43mmethod_names\u001b[49m\u001b[43m \u001b[49m\u001b[38;5;241;43m=\u001b[39;49m\u001b[43m \u001b[49m\u001b[43mmethod_names\u001b[49m\u001b[43m)\u001b[49m\n",
      "File \u001b[0;32m~/Dropbox/PythonProjects/NDL_paper_rev/helper_functions/link_prediction.py:322\u001b[0m, in \u001b[0;36mrun_link_prediction_all\u001b[0;34m(directory_network_files, save_folder, list_network_files, ND_list_noise_type, method_names)\u001b[0m\n\u001b[1;32m    319\u001b[0m     recons_wtd_edgelist, denoising_dict \u001b[38;5;241m=\u001b[39m run_NDR_denoising_CV(G_corrupt, train_edges_false, train_edges_true, test_edges_false, test_edges_true, G, path_corrupt, noise_type)\n\u001b[1;32m    321\u001b[0m \u001b[38;5;28;01melif\u001b[39;00m name \u001b[38;5;241m==\u001b[39m \u001b[38;5;124m'\u001b[39m\u001b[38;5;124mspectral\u001b[39m\u001b[38;5;124m'\u001b[39m:\n\u001b[0;32m--> 322\u001b[0m     recons_wtd_edgelist \u001b[38;5;241m=\u001b[39m \u001b[43mrun_spectral\u001b[49m\u001b[43m(\u001b[49m\u001b[43mG_corrupt\u001b[49m\u001b[43m,\u001b[49m\u001b[43m \u001b[49m\u001b[43mtrain_edges_false\u001b[49m\u001b[43m,\u001b[49m\u001b[43m \u001b[49m\u001b[43mtrain_edges_true\u001b[49m\u001b[43m,\u001b[49m\u001b[43m \u001b[49m\u001b[43mtest_edges_false\u001b[49m\u001b[43m,\u001b[49m\u001b[43m \u001b[49m\u001b[43mtest_edges_true\u001b[49m\u001b[43m,\u001b[49m\u001b[43m \u001b[49m\u001b[43mG\u001b[49m\u001b[43m,\u001b[49m\u001b[43m \u001b[49m\u001b[43mpath_corrupt\u001b[49m\u001b[43m,\u001b[49m\u001b[43m \u001b[49m\u001b[43mnoise_type\u001b[49m\u001b[43m)\u001b[49m\n\u001b[1;32m    324\u001b[0m \u001b[38;5;28;01melse\u001b[39;00m:\n\u001b[1;32m    325\u001b[0m     f \u001b[38;5;241m=\u001b[39m funcs\u001b[38;5;241m.\u001b[39mget(name)\n",
      "File \u001b[0;32m~/Dropbox/PythonProjects/NDL_paper_rev/helper_functions/node2vec_helper.py:347\u001b[0m, in \u001b[0;36mrun_spectral\u001b[0;34m(G, train_edges_false, train_edges_true, test_edges_false, test_edges_true, G_original, path_corrupt, noise_type)\u001b[0m\n\u001b[1;32m    344\u001b[0m val_edges_true \u001b[38;5;241m=\u001b[39m [X_test[i] \u001b[38;5;28;01mfor\u001b[39;00m i \u001b[38;5;129;01min\u001b[39;00m np\u001b[38;5;241m.\u001b[39marange(\u001b[38;5;28mlen\u001b[39m(X_test)) \u001b[38;5;28;01mif\u001b[39;00m y_test[i]\u001b[38;5;241m==\u001b[39m\u001b[38;5;241m1\u001b[39m]\n\u001b[1;32m    345\u001b[0m val_edges_false \u001b[38;5;241m=\u001b[39m [X_test[i] \u001b[38;5;28;01mfor\u001b[39;00m i \u001b[38;5;129;01min\u001b[39;00m np\u001b[38;5;241m.\u001b[39marange(\u001b[38;5;28mlen\u001b[39m(X_test)) \u001b[38;5;28;01mif\u001b[39;00m y_test[i]\u001b[38;5;241m==\u001b[39m\u001b[38;5;241m0\u001b[39m]\n\u001b[0;32m--> 347\u001b[0m my_dict \u001b[38;5;241m=\u001b[39m \u001b[43mspectral_embedding\u001b[49m\u001b[43m(\u001b[49m\u001b[43mnx_G\u001b[49m\u001b[43m,\u001b[49m\u001b[43m \u001b[49m\u001b[43margs\u001b[49m\u001b[38;5;241;43m.\u001b[39;49m\u001b[43mget\u001b[49m\u001b[43m(\u001b[49m\u001b[38;5;124;43m\"\u001b[39;49m\u001b[38;5;124;43memb_dim\u001b[39;49m\u001b[38;5;124;43m\"\u001b[39;49m\u001b[43m)\u001b[49m\u001b[43m)\u001b[49m\n\u001b[1;32m    349\u001b[0m \u001b[38;5;66;03m# Compute edge embeddings\u001b[39;00m\n\u001b[1;32m    350\u001b[0m train_edge_embeds_false_hyper \u001b[38;5;241m=\u001b[39m compute_edge_embeds(train_edges_false_hyper, my_dict)\n",
      "File \u001b[0;32m~/Dropbox/PythonProjects/NDL_paper_rev/helper_functions/node2vec_helper.py:321\u001b[0m, in \u001b[0;36mspectral_embedding\u001b[0;34m(G, d)\u001b[0m\n\u001b[1;32m    319\u001b[0m nodes \u001b[38;5;241m=\u001b[39m \u001b[38;5;28mlist\u001b[39m(G\u001b[38;5;241m.\u001b[39mnodes())\n\u001b[1;32m    320\u001b[0m L \u001b[38;5;241m=\u001b[39m nx\u001b[38;5;241m.\u001b[39mlaplacian_matrix(G, nodelist\u001b[38;5;241m=\u001b[39mnodes)\u001b[38;5;241m.\u001b[39mtodense()\n\u001b[0;32m--> 321\u001b[0m e, v \u001b[38;5;241m=\u001b[39m \u001b[43mnp\u001b[49m\u001b[38;5;241;43m.\u001b[39;49m\u001b[43mlinalg\u001b[49m\u001b[38;5;241;43m.\u001b[39;49m\u001b[43meigh\u001b[49m\u001b[43m(\u001b[49m\u001b[43mL\u001b[49m\u001b[43m)\u001b[49m\n\u001b[1;32m    322\u001b[0m emb \u001b[38;5;241m=\u001b[39m np\u001b[38;5;241m.\u001b[39masarray(v)[:,:d]\n\u001b[1;32m    323\u001b[0m my_dict \u001b[38;5;241m=\u001b[39m \u001b[38;5;28mdict\u001b[39m({})\n",
      "File \u001b[0;32m<__array_function__ internals>:180\u001b[0m, in \u001b[0;36meigh\u001b[0;34m(*args, **kwargs)\u001b[0m\n",
      "File \u001b[0;32m~/opt/miniconda3/envs/hlyuenv/lib/python3.9/site-packages/numpy/linalg/linalg.py:1465\u001b[0m, in \u001b[0;36meigh\u001b[0;34m(a, UPLO)\u001b[0m\n\u001b[1;32m   1462\u001b[0m     gufunc \u001b[38;5;241m=\u001b[39m _umath_linalg\u001b[38;5;241m.\u001b[39meigh_up\n\u001b[1;32m   1464\u001b[0m signature \u001b[38;5;241m=\u001b[39m \u001b[38;5;124m'\u001b[39m\u001b[38;5;124mD->dD\u001b[39m\u001b[38;5;124m'\u001b[39m \u001b[38;5;28;01mif\u001b[39;00m isComplexType(t) \u001b[38;5;28;01melse\u001b[39;00m \u001b[38;5;124m'\u001b[39m\u001b[38;5;124md->dd\u001b[39m\u001b[38;5;124m'\u001b[39m\n\u001b[0;32m-> 1465\u001b[0m w, vt \u001b[38;5;241m=\u001b[39m \u001b[43mgufunc\u001b[49m\u001b[43m(\u001b[49m\u001b[43ma\u001b[49m\u001b[43m,\u001b[49m\u001b[43m \u001b[49m\u001b[43msignature\u001b[49m\u001b[38;5;241;43m=\u001b[39;49m\u001b[43msignature\u001b[49m\u001b[43m,\u001b[49m\u001b[43m \u001b[49m\u001b[43mextobj\u001b[49m\u001b[38;5;241;43m=\u001b[39;49m\u001b[43mextobj\u001b[49m\u001b[43m)\u001b[49m\n\u001b[1;32m   1466\u001b[0m w \u001b[38;5;241m=\u001b[39m w\u001b[38;5;241m.\u001b[39mastype(_realType(result_t), copy\u001b[38;5;241m=\u001b[39m\u001b[38;5;28;01mFalse\u001b[39;00m)\n\u001b[1;32m   1467\u001b[0m vt \u001b[38;5;241m=\u001b[39m vt\u001b[38;5;241m.\u001b[39mastype(result_t, copy\u001b[38;5;241m=\u001b[39m\u001b[38;5;28;01mFalse\u001b[39;00m)\n",
      "\u001b[0;31mKeyboardInterrupt\u001b[0m: "
     ]
    }
   ],
   "source": [
    "from helper_functions.link_prediction import Generate_corrupt_and_denoising_results\n",
    "\n",
    "Generate_corrupt_and_denoising_results()"
   ]
  },
  {
   "cell_type": "code",
   "execution_count": null,
   "metadata": {},
   "outputs": [],
   "source": []
  }
 ],
 "metadata": {
  "kernelspec": {
   "display_name": "hlyuenv",
   "language": "python",
   "name": "hlyuenv"
  },
  "language_info": {
   "codemirror_mode": {
    "name": "ipython",
    "version": 3
   },
   "file_extension": ".py",
   "mimetype": "text/x-python",
   "name": "python",
   "nbconvert_exporter": "python",
   "pygments_lexer": "ipython3",
   "version": "3.9.12"
  }
 },
 "nbformat": 4,
 "nbformat_minor": 2
}
